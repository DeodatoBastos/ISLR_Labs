{
 "cells": [
  {
   "cell_type": "code",
   "execution_count": 3,
   "metadata": {},
   "outputs": [],
   "source": [
    "import numpy as np\n",
    "import pandas as pd\n",
    "import matplotlib.pyplot as plt\n",
    "import plotly.express as px\n",
    "from scipy.stats import linregress, t\n",
    "import statsmodels.formula.api as smf\n",
    "from patsy.contrasts import Treatment\n",
    "\n",
    "import sys; sys.path.insert(0, '..')\n",
    "from utils import LinearRegDiagnostic"
   ]
  },
  {
   "cell_type": "markdown",
   "metadata": {},
   "source": [
    "a)"
   ]
  },
  {
   "attachments": {},
   "cell_type": "markdown",
   "metadata": {},
   "source": [
    "For Y onto X: $ \\hat{\\beta}_y = \\frac{\\sum x_i y_i}{\\sum x_i^2 } $\n",
    "For X onto Y: $ \\hat{\\beta}_x = \\frac{\\sum x_i y_i}{\\sum y_i^2 } $\n",
    "\n",
    "For $ \\hat{\\beta}_y = \\hat{\\beta}_x $, we need:\n",
    "\n",
    "$$\n",
    "    \\sum x_i^2 = \\sum y_i^2\n",
    "$$"
   ]
  },
  {
   "cell_type": "markdown",
   "metadata": {},
   "source": [
    "b)"
   ]
  },
  {
   "attachments": {},
   "cell_type": "markdown",
   "metadata": {},
   "source": [
    "I've already done this in the previous question, items **a)** and **b)**"
   ]
  },
  {
   "cell_type": "markdown",
   "metadata": {},
   "source": [
    "c)"
   ]
  },
  {
   "cell_type": "code",
   "execution_count": 5,
   "metadata": {},
   "outputs": [],
   "source": [
    "np.random.seed(1)\n",
    "x = np.random.normal(size=100)\n",
    "y = np.copy(x.reshape(-1, 2, *x.shape[1:])[:, ::-1].reshape(x.shape))\n",
    "data = pd.DataFrame(data={\"x\": x, \"y\": y})"
   ]
  },
  {
   "cell_type": "code",
   "execution_count": 7,
   "metadata": {},
   "outputs": [
    {
     "name": "stdout",
     "output_type": "stream",
     "text": [
      "y onto x: x   -0.230907\n",
      "dtype: float64\n",
      "x onto y: y   -0.230907\n",
      "dtype: float64\n"
     ]
    }
   ],
   "source": [
    "results_y = smf.ols(\"y ~ x - 1\", data=data).fit()\n",
    "results_x = smf.ols(\"x ~ y - 1\", data=data).fit()\n",
    "\n",
    "print(f\"y onto x: {results_y.params}\\nx onto y: {results_x.params}\")"
   ]
  },
  {
   "cell_type": "code",
   "execution_count": null,
   "metadata": {},
   "outputs": [],
   "source": []
  }
 ],
 "metadata": {
  "kernelspec": {
   "display_name": ".venv",
   "language": "python",
   "name": "python3"
  },
  "language_info": {
   "codemirror_mode": {
    "name": "ipython",
    "version": 3
   },
   "file_extension": ".py",
   "mimetype": "text/x-python",
   "name": "python",
   "nbconvert_exporter": "python",
   "pygments_lexer": "ipython3",
   "version": "3.10.6"
  },
  "orig_nbformat": 4
 },
 "nbformat": 4,
 "nbformat_minor": 2
}
