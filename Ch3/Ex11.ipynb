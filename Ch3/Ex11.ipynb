{
 "cells": [
  {
   "cell_type": "code",
   "execution_count": 1,
   "metadata": {},
   "outputs": [],
   "source": [
    "import numpy as np\n",
    "import pandas as pd\n",
    "import statsmodels.formula.api as smf\n",
    "\n",
    "import sys; sys.path.insert(0, '..')\n",
    "from utils import LinearRegDiagnostic"
   ]
  },
  {
   "cell_type": "code",
   "execution_count": 2,
   "metadata": {},
   "outputs": [],
   "source": [
    "np.random.seed(1)\n",
    "x = np.random.normal(size=100)\n",
    "y = 2 * x + np.random.normal(size=100)\n",
    "data = pd.DataFrame(data={\"x\": x, \"y\": y})"
   ]
  },
  {
   "attachments": {},
   "cell_type": "markdown",
   "metadata": {},
   "source": [
    "a)"
   ]
  },
  {
   "cell_type": "code",
   "execution_count": 3,
   "metadata": {},
   "outputs": [
    {
     "name": "stdout",
     "output_type": "stream",
     "text": [
      "                                 OLS Regression Results                                \n",
      "=======================================================================================\n",
      "Dep. Variable:                      y   R-squared (uncentered):                   0.798\n",
      "Model:                            OLS   Adj. R-squared (uncentered):              0.796\n",
      "Method:                 Least Squares   F-statistic:                              391.7\n",
      "Date:                Fri, 05 May 2023   Prob (F-statistic):                    3.46e-36\n",
      "Time:                        15:16:18   Log-Likelihood:                         -135.67\n",
      "No. Observations:                 100   AIC:                                      273.3\n",
      "Df Residuals:                      99   BIC:                                      275.9\n",
      "Df Model:                           1                                                  \n",
      "Covariance Type:            nonrobust                                                  \n",
      "==============================================================================\n",
      "                 coef    std err          t      P>|t|      [0.025      0.975]\n",
      "------------------------------------------------------------------------------\n",
      "x              2.1067      0.106     19.792      0.000       1.896       2.318\n",
      "==============================================================================\n",
      "Omnibus:                        0.880   Durbin-Watson:                   2.106\n",
      "Prob(Omnibus):                  0.644   Jarque-Bera (JB):                0.554\n",
      "Skew:                          -0.172   Prob(JB):                        0.758\n",
      "Kurtosis:                       3.119   Cond. No.                         1.00\n",
      "==============================================================================\n",
      "\n",
      "Notes:\n",
      "[1] R² is computed without centering (uncentered) since the model does not contain a constant.\n",
      "[2] Standard Errors assume that the covariance matrix of the errors is correctly specified.\n"
     ]
    }
   ],
   "source": [
    "results_y = smf.ols(\"y ~ x - 1\", data=data).fit()\n",
    "print(results_y.summary())"
   ]
  },
  {
   "attachments": {},
   "cell_type": "markdown",
   "metadata": {},
   "source": [
    "The coefficient is 2.10 and the standard error is 0.11. The p-value is close to zero, so the predictor is statistically significant."
   ]
  },
  {
   "attachments": {},
   "cell_type": "markdown",
   "metadata": {},
   "source": [
    "b)"
   ]
  },
  {
   "cell_type": "code",
   "execution_count": 4,
   "metadata": {},
   "outputs": [
    {
     "name": "stdout",
     "output_type": "stream",
     "text": [
      "                                 OLS Regression Results                                \n",
      "=======================================================================================\n",
      "Dep. Variable:                      x   R-squared (uncentered):                   0.798\n",
      "Model:                            OLS   Adj. R-squared (uncentered):              0.796\n",
      "Method:                 Least Squares   F-statistic:                              391.7\n",
      "Date:                Fri, 05 May 2023   Prob (F-statistic):                    3.46e-36\n",
      "Time:                        15:16:18   Log-Likelihood:                         -49.891\n",
      "No. Observations:                 100   AIC:                                      101.8\n",
      "Df Residuals:                      99   BIC:                                      104.4\n",
      "Df Model:                           1                                                  \n",
      "Covariance Type:            nonrobust                                                  \n",
      "==============================================================================\n",
      "                 coef    std err          t      P>|t|      [0.025      0.975]\n",
      "------------------------------------------------------------------------------\n",
      "y              0.3789      0.019     19.792      0.000       0.341       0.417\n",
      "==============================================================================\n",
      "Omnibus:                        0.476   Durbin-Watson:                   2.166\n",
      "Prob(Omnibus):                  0.788   Jarque-Bera (JB):                0.631\n",
      "Skew:                           0.115   Prob(JB):                        0.729\n",
      "Kurtosis:                       2.685   Cond. No.                         1.00\n",
      "==============================================================================\n",
      "\n",
      "Notes:\n",
      "[1] R² is computed without centering (uncentered) since the model does not contain a constant.\n",
      "[2] Standard Errors assume that the covariance matrix of the errors is correctly specified.\n"
     ]
    }
   ],
   "source": [
    "results_x = smf.ols(\"x ~ y - 1\", data=data).fit()\n",
    "print(results_x.summary())"
   ]
  },
  {
   "attachments": {},
   "cell_type": "markdown",
   "metadata": {},
   "source": [
    "The coefficient is 0.38 and the standard error is 0.02. The p-value is close to zero, so the predictor is statistically significant. The t-statistic value is the same of y onto x."
   ]
  },
  {
   "attachments": {},
   "cell_type": "markdown",
   "metadata": {},
   "source": [
    "c)"
   ]
  },
  {
   "attachments": {},
   "cell_type": "markdown",
   "metadata": {},
   "source": [
    "The p-value and t-statistic are the same for both regression, so their represents the same line.\n",
    "\n",
    "$$\n",
    "    y = 2x + \\epsilon \\therefore \n",
    "$$\n",
    "\n",
    "$$\n",
    "    x = \\frac{y - \\epsilon}{2}\n",
    "$$"
   ]
  },
  {
   "attachments": {},
   "cell_type": "markdown",
   "metadata": {},
   "source": [
    "d)"
   ]
  },
  {
   "attachments": {},
   "cell_type": "markdown",
   "metadata": {},
   "source": [
    "$$\n",
    "    t^2 = \\frac{\\hat{\\beta}^2 (n - 1) \\sum x_i^2 }{\\sum (y_i - x_i \\hat{\\beta})^2} = \\frac{(n - 1) (\\sum x_i y_i )^2}{\\sum x_i^2 ( \\sum y_i^2 - 2 \\hat{\\beta} \\sum x_i y_i + \\hat{\\beta}^2 \\sum x_i^2)} \\therefore\n",
    "$$\n",
    "\n",
    "$$\n",
    "    t^2 = \\frac{(n - 1) (\\sum x_i y_i )^2}{\\sum x_i^2 \\sum y_i^2 - 2 (\\sum x_i y_i )^2 + (\\sum x_i y_i )^2} = \\frac{(n - 1) (\\sum x_i y_i )^2}{\\sum x_i^2 \\sum y_i^2 - (\\sum x_i y_i )^2} \\therefore\n",
    "$$\n",
    "\n",
    "$$\n",
    "    t = \\frac{\\sqrt{(n - 1)} (\\sum x_i y_i )}{\\sqrt{\\sum x_i^2 \\sum y_i^2 - (\\sum x_i y_i )^2}}\n",
    "$$"
   ]
  },
  {
   "attachments": {},
   "cell_type": "markdown",
   "metadata": {},
   "source": [
    "e)"
   ]
  },
  {
   "attachments": {},
   "cell_type": "markdown",
   "metadata": {},
   "source": [
    "Looking at the final expression, is obvious that the order of x and y is not important, so value must be the same."
   ]
  },
  {
   "attachments": {},
   "cell_type": "markdown",
   "metadata": {},
   "source": [
    "f)"
   ]
  },
  {
   "cell_type": "code",
   "execution_count": 5,
   "metadata": {},
   "outputs": [
    {
     "name": "stdout",
     "output_type": "stream",
     "text": [
      "y onto x: 19.782585315629255\n",
      "x onto y: 19.782585315629255\n"
     ]
    }
   ],
   "source": [
    "results_y = smf.ols(\"y ~ x\", data=data).fit()\n",
    "results_x = smf.ols(\"x ~ y\", data=data).fit()\n",
    "\n",
    "print(f\"y onto x: {results_y.tvalues[1]}\\nx onto y: {results_x.tvalues[1]}\")"
   ]
  }
 ],
 "metadata": {
  "kernelspec": {
   "display_name": ".venv",
   "language": "python",
   "name": "python3"
  },
  "language_info": {
   "codemirror_mode": {
    "name": "ipython",
    "version": 3
   },
   "file_extension": ".py",
   "mimetype": "text/x-python",
   "name": "python",
   "nbconvert_exporter": "python",
   "pygments_lexer": "ipython3",
   "version": "3.10.6"
  },
  "orig_nbformat": 4
 },
 "nbformat": 4,
 "nbformat_minor": 2
}
