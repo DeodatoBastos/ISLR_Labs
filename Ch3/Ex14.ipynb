{
 "cells": [
  {
   "cell_type": "code",
   "execution_count": 21,
   "metadata": {},
   "outputs": [],
   "source": [
    "import numpy as np\n",
    "import pandas as pd\n",
    "import plotly.express as px\n",
    "import statsmodels.formula.api as smf\n",
    "\n",
    "import sys; sys.path.insert(0, '..')\n",
    "from utils import LinearRegDiagnostic"
   ]
  },
  {
   "attachments": {},
   "cell_type": "markdown",
   "metadata": {},
   "source": [
    "a)"
   ]
  },
  {
   "cell_type": "code",
   "execution_count": 3,
   "metadata": {},
   "outputs": [],
   "source": [
    "np.random.seed(1)\n",
    "x1 = np.random.uniform(size=100)\n",
    "x2 = 0.5 * x1 + np.random.normal(size=100) / 10\n",
    "y = 2 + 2 * x1 + 0.3 * x2 + np.random.normal(size=100)\n",
    "data = pd.DataFrame(data={\"x1\": x1, \"x2\": x2, \"y\": y})"
   ]
  },
  {
   "attachments": {},
   "cell_type": "markdown",
   "metadata": {},
   "source": [
    "$$\n",
    "    y = 2 + 2 x_1 + 0.3 x_2 + \\epsilon\n",
    "$$\n",
    "\n",
    "$$\n",
    "    \\beta_0 = 2; \\beta_1 = 2; \\beta_2 = 0.3\n",
    "$$"
   ]
  },
  {
   "attachments": {},
   "cell_type": "markdown",
   "metadata": {},
   "source": [
    "b)"
   ]
  },
  {
   "cell_type": "code",
   "execution_count": 7,
   "metadata": {},
   "outputs": [
    {
     "name": "stdout",
     "output_type": "stream",
     "text": [
      "[[1.         0.83905962]\n",
      " [0.83905962 1.        ]]\n"
     ]
    }
   ],
   "source": [
    "print(np.corrcoef(x1, x2))"
   ]
  },
  {
   "cell_type": "code",
   "execution_count": 13,
   "metadata": {},
   "outputs": [
    {
     "data": {
      "application/vnd.plotly.v1+json": {
       "config": {
        "plotlyServerURL": "https://plot.ly"
       },
       "data": [
        {
         "hovertemplate": "x1=%{x}<br>x2=%{y}<extra></extra>",
         "legendgroup": "",
         "marker": {
          "color": "#636efa",
          "symbol": "circle"
         },
         "mode": "markers",
         "name": "",
         "orientation": "v",
         "showlegend": false,
         "type": "scatter",
         "x": [
          0.417022004702574,
          0.7203244934421581,
          0.00011437481734488664,
          0.30233257263183977,
          0.14675589081711304,
          0.0923385947687978,
          0.1862602113776709,
          0.34556072704304774,
          0.39676747423066994,
          0.538816734003357,
          0.4191945144032948,
          0.6852195003967595,
          0.20445224973151743,
          0.8781174363909454,
          0.027387593197926163,
          0.6704675101784022,
          0.41730480236712697,
          0.5586898284457517,
          0.14038693859523377,
          0.1981014890848788,
          0.8007445686755367,
          0.9682615757193975,
          0.31342417815924284,
          0.6923226156693141,
          0.8763891522960383,
          0.8946066635038473,
          0.08504421136977791,
          0.03905478323288236,
          0.1698304195645689,
          0.8781425034294131,
          0.0983468338330501,
          0.42110762500505217,
          0.9578895301505019,
          0.5331652849730171,
          0.6918771139504734,
          0.31551563100606295,
          0.6865009276815837,
          0.8346256718973729,
          0.018288277344191806,
          0.7501443149449675,
          0.9888610889064947,
          0.7481656543798394,
          0.2804439920644052,
          0.7892793284514885,
          0.10322600657764203,
          0.44789352617590517,
          0.9085955030930956,
          0.2936141483736795,
          0.28777533858634874,
          0.13002857211827767,
          0.019366957870297075,
          0.678835532939891,
          0.21162811600005904,
          0.2655466593722262,
          0.4915731592803383,
          0.053362545117080384,
          0.5741176054920131,
          0.14672857490581015,
          0.5893055369032842,
          0.6997583600209312,
          0.10233442882782584,
          0.4140559878195683,
          0.6944001577277451,
          0.41417926952690265,
          0.04995345894608716,
          0.5358964059155116,
          0.6637946452197888,
          0.5148891120583086,
          0.9445947559908133,
          0.5865550405019929,
          0.9034019152878835,
          0.13747470414623753,
          0.13927634725075855,
          0.8073912887095238,
          0.3976768369855336,
          0.16535419711693278,
          0.9275085803960339,
          0.34776585974550656,
          0.7508121031361555,
          0.7259979853504515,
          0.8833060912058098,
          0.6236722070556089,
          0.7509424340273372,
          0.34889834197784253,
          0.2699278917650261,
          0.8958862181960668,
          0.4280911898712949,
          0.9648400471483856,
          0.6634414978184481,
          0.6216957202091218,
          0.11474597295337519,
          0.9494892587070712,
          0.4499121334799405,
          0.5783896143871318,
          0.40813680276128117,
          0.2370269802430277,
          0.9033795205622538,
          0.5736794866722859,
          0.00287032703115897,
          0.6171449136207239
         ],
         "xaxis": "x",
         "y": [
          0.24007449707544753,
          0.15794212513867875,
          -0.030563213854164738,
          0.2339637505766445,
          0.09638741894499486,
          0.12237041541560137,
          0.07089729142779952,
          0.1527045566285241,
          0.2170398762141634,
          0.3104135317225041,
          0.22942722921432437,
          0.35451061477912565,
          0.035159896236855656,
          0.4768150968275646,
          0.025875923698106776,
          0.44818214588039307,
          0.3285441891737142,
          0.2978605559712702,
          0.032664974288605465,
          0.03517770379701715,
          0.4427217197441796,
          0.4918647946945547,
          0.12232672152251386,
          0.35052099351808175,
          0.37619449175320624,
          0.5171065351591455,
          -0.002190750793710866,
          0.14197816209699107,
          0.12526437396136444,
          0.4984291040384133,
          -0.06031776765757914,
          0.22749205580839288,
          0.5530004101848784,
          0.17121258230571507,
          0.31931670637487447,
          0.16101927017236733,
          0.20593873181611627,
          0.44882877515291564,
          0.09376020343059924,
          0.2891205633892851,
          0.529485142319658,
          0.24285448606617652,
          0.13635244510559746,
          0.23306242875541477,
          0.16375477411238742,
          0.26483681688163535,
          0.4518360559589699,
          0.06929091226992379,
          0.27126326230905207,
          0.26172446098461233,
          -0.17611470750952668,
          0.4630341695152275,
          0.26857913331492017,
          0.16657449934356067,
          0.12585977640665053,
          0.11301580431294235,
          0.2689667725381915,
          0.01297222467357935,
          0.17164695488494594,
          0.40493292960808713,
          0.1304479010058477,
          0.144674920941805,
          0.3992577125712096,
          0.09265549580113705,
          0.10516283266017805,
          0.27260493280017034,
          0.3132403454191595,
          0.24726996877623975,
          0.5591859936959934,
          0.36831868423749725,
          0.5046474900792126,
          0.08250747307285737,
          0.07742028641664986,
          0.46553367055461436,
          0.22208787441064057,
          0.1509322392449149,
          0.43274261284621096,
          -0.06960084653796061,
          0.4792885117540192,
          0.5816969573726515,
          0.4857894899597631,
          0.30182058019945446,
          0.3618267426240653,
          0.16254375221144027,
          0.1367048867125135,
          0.3357412362233446,
          0.16233614914362465,
          0.3827173408091665,
          0.3566006650480011,
          0.2811837448674746,
          0.10689411887448363,
          0.45727431337928554,
          0.3235895855220945,
          0.3105481973271101,
          0.4231383742776139,
          -0.07112260216759539,
          0.38699809145563613,
          0.376988432501014,
          0.2542677341962193,
          0.2837089790388159
         ],
         "yaxis": "y"
        }
       ],
       "layout": {
        "legend": {
         "tracegroupgap": 0
        },
        "margin": {
         "t": 60
        },
        "template": {
         "data": {
          "bar": [
           {
            "error_x": {
             "color": "#2a3f5f"
            },
            "error_y": {
             "color": "#2a3f5f"
            },
            "marker": {
             "line": {
              "color": "#E5ECF6",
              "width": 0.5
             },
             "pattern": {
              "fillmode": "overlay",
              "size": 10,
              "solidity": 0.2
             }
            },
            "type": "bar"
           }
          ],
          "barpolar": [
           {
            "marker": {
             "line": {
              "color": "#E5ECF6",
              "width": 0.5
             },
             "pattern": {
              "fillmode": "overlay",
              "size": 10,
              "solidity": 0.2
             }
            },
            "type": "barpolar"
           }
          ],
          "carpet": [
           {
            "aaxis": {
             "endlinecolor": "#2a3f5f",
             "gridcolor": "white",
             "linecolor": "white",
             "minorgridcolor": "white",
             "startlinecolor": "#2a3f5f"
            },
            "baxis": {
             "endlinecolor": "#2a3f5f",
             "gridcolor": "white",
             "linecolor": "white",
             "minorgridcolor": "white",
             "startlinecolor": "#2a3f5f"
            },
            "type": "carpet"
           }
          ],
          "choropleth": [
           {
            "colorbar": {
             "outlinewidth": 0,
             "ticks": ""
            },
            "type": "choropleth"
           }
          ],
          "contour": [
           {
            "colorbar": {
             "outlinewidth": 0,
             "ticks": ""
            },
            "colorscale": [
             [
              0,
              "#0d0887"
             ],
             [
              0.1111111111111111,
              "#46039f"
             ],
             [
              0.2222222222222222,
              "#7201a8"
             ],
             [
              0.3333333333333333,
              "#9c179e"
             ],
             [
              0.4444444444444444,
              "#bd3786"
             ],
             [
              0.5555555555555556,
              "#d8576b"
             ],
             [
              0.6666666666666666,
              "#ed7953"
             ],
             [
              0.7777777777777778,
              "#fb9f3a"
             ],
             [
              0.8888888888888888,
              "#fdca26"
             ],
             [
              1,
              "#f0f921"
             ]
            ],
            "type": "contour"
           }
          ],
          "contourcarpet": [
           {
            "colorbar": {
             "outlinewidth": 0,
             "ticks": ""
            },
            "type": "contourcarpet"
           }
          ],
          "heatmap": [
           {
            "colorbar": {
             "outlinewidth": 0,
             "ticks": ""
            },
            "colorscale": [
             [
              0,
              "#0d0887"
             ],
             [
              0.1111111111111111,
              "#46039f"
             ],
             [
              0.2222222222222222,
              "#7201a8"
             ],
             [
              0.3333333333333333,
              "#9c179e"
             ],
             [
              0.4444444444444444,
              "#bd3786"
             ],
             [
              0.5555555555555556,
              "#d8576b"
             ],
             [
              0.6666666666666666,
              "#ed7953"
             ],
             [
              0.7777777777777778,
              "#fb9f3a"
             ],
             [
              0.8888888888888888,
              "#fdca26"
             ],
             [
              1,
              "#f0f921"
             ]
            ],
            "type": "heatmap"
           }
          ],
          "heatmapgl": [
           {
            "colorbar": {
             "outlinewidth": 0,
             "ticks": ""
            },
            "colorscale": [
             [
              0,
              "#0d0887"
             ],
             [
              0.1111111111111111,
              "#46039f"
             ],
             [
              0.2222222222222222,
              "#7201a8"
             ],
             [
              0.3333333333333333,
              "#9c179e"
             ],
             [
              0.4444444444444444,
              "#bd3786"
             ],
             [
              0.5555555555555556,
              "#d8576b"
             ],
             [
              0.6666666666666666,
              "#ed7953"
             ],
             [
              0.7777777777777778,
              "#fb9f3a"
             ],
             [
              0.8888888888888888,
              "#fdca26"
             ],
             [
              1,
              "#f0f921"
             ]
            ],
            "type": "heatmapgl"
           }
          ],
          "histogram": [
           {
            "marker": {
             "pattern": {
              "fillmode": "overlay",
              "size": 10,
              "solidity": 0.2
             }
            },
            "type": "histogram"
           }
          ],
          "histogram2d": [
           {
            "colorbar": {
             "outlinewidth": 0,
             "ticks": ""
            },
            "colorscale": [
             [
              0,
              "#0d0887"
             ],
             [
              0.1111111111111111,
              "#46039f"
             ],
             [
              0.2222222222222222,
              "#7201a8"
             ],
             [
              0.3333333333333333,
              "#9c179e"
             ],
             [
              0.4444444444444444,
              "#bd3786"
             ],
             [
              0.5555555555555556,
              "#d8576b"
             ],
             [
              0.6666666666666666,
              "#ed7953"
             ],
             [
              0.7777777777777778,
              "#fb9f3a"
             ],
             [
              0.8888888888888888,
              "#fdca26"
             ],
             [
              1,
              "#f0f921"
             ]
            ],
            "type": "histogram2d"
           }
          ],
          "histogram2dcontour": [
           {
            "colorbar": {
             "outlinewidth": 0,
             "ticks": ""
            },
            "colorscale": [
             [
              0,
              "#0d0887"
             ],
             [
              0.1111111111111111,
              "#46039f"
             ],
             [
              0.2222222222222222,
              "#7201a8"
             ],
             [
              0.3333333333333333,
              "#9c179e"
             ],
             [
              0.4444444444444444,
              "#bd3786"
             ],
             [
              0.5555555555555556,
              "#d8576b"
             ],
             [
              0.6666666666666666,
              "#ed7953"
             ],
             [
              0.7777777777777778,
              "#fb9f3a"
             ],
             [
              0.8888888888888888,
              "#fdca26"
             ],
             [
              1,
              "#f0f921"
             ]
            ],
            "type": "histogram2dcontour"
           }
          ],
          "mesh3d": [
           {
            "colorbar": {
             "outlinewidth": 0,
             "ticks": ""
            },
            "type": "mesh3d"
           }
          ],
          "parcoords": [
           {
            "line": {
             "colorbar": {
              "outlinewidth": 0,
              "ticks": ""
             }
            },
            "type": "parcoords"
           }
          ],
          "pie": [
           {
            "automargin": true,
            "type": "pie"
           }
          ],
          "scatter": [
           {
            "fillpattern": {
             "fillmode": "overlay",
             "size": 10,
             "solidity": 0.2
            },
            "type": "scatter"
           }
          ],
          "scatter3d": [
           {
            "line": {
             "colorbar": {
              "outlinewidth": 0,
              "ticks": ""
             }
            },
            "marker": {
             "colorbar": {
              "outlinewidth": 0,
              "ticks": ""
             }
            },
            "type": "scatter3d"
           }
          ],
          "scattercarpet": [
           {
            "marker": {
             "colorbar": {
              "outlinewidth": 0,
              "ticks": ""
             }
            },
            "type": "scattercarpet"
           }
          ],
          "scattergeo": [
           {
            "marker": {
             "colorbar": {
              "outlinewidth": 0,
              "ticks": ""
             }
            },
            "type": "scattergeo"
           }
          ],
          "scattergl": [
           {
            "marker": {
             "colorbar": {
              "outlinewidth": 0,
              "ticks": ""
             }
            },
            "type": "scattergl"
           }
          ],
          "scattermapbox": [
           {
            "marker": {
             "colorbar": {
              "outlinewidth": 0,
              "ticks": ""
             }
            },
            "type": "scattermapbox"
           }
          ],
          "scatterpolar": [
           {
            "marker": {
             "colorbar": {
              "outlinewidth": 0,
              "ticks": ""
             }
            },
            "type": "scatterpolar"
           }
          ],
          "scatterpolargl": [
           {
            "marker": {
             "colorbar": {
              "outlinewidth": 0,
              "ticks": ""
             }
            },
            "type": "scatterpolargl"
           }
          ],
          "scatterternary": [
           {
            "marker": {
             "colorbar": {
              "outlinewidth": 0,
              "ticks": ""
             }
            },
            "type": "scatterternary"
           }
          ],
          "surface": [
           {
            "colorbar": {
             "outlinewidth": 0,
             "ticks": ""
            },
            "colorscale": [
             [
              0,
              "#0d0887"
             ],
             [
              0.1111111111111111,
              "#46039f"
             ],
             [
              0.2222222222222222,
              "#7201a8"
             ],
             [
              0.3333333333333333,
              "#9c179e"
             ],
             [
              0.4444444444444444,
              "#bd3786"
             ],
             [
              0.5555555555555556,
              "#d8576b"
             ],
             [
              0.6666666666666666,
              "#ed7953"
             ],
             [
              0.7777777777777778,
              "#fb9f3a"
             ],
             [
              0.8888888888888888,
              "#fdca26"
             ],
             [
              1,
              "#f0f921"
             ]
            ],
            "type": "surface"
           }
          ],
          "table": [
           {
            "cells": {
             "fill": {
              "color": "#EBF0F8"
             },
             "line": {
              "color": "white"
             }
            },
            "header": {
             "fill": {
              "color": "#C8D4E3"
             },
             "line": {
              "color": "white"
             }
            },
            "type": "table"
           }
          ]
         },
         "layout": {
          "annotationdefaults": {
           "arrowcolor": "#2a3f5f",
           "arrowhead": 0,
           "arrowwidth": 1
          },
          "autotypenumbers": "strict",
          "coloraxis": {
           "colorbar": {
            "outlinewidth": 0,
            "ticks": ""
           }
          },
          "colorscale": {
           "diverging": [
            [
             0,
             "#8e0152"
            ],
            [
             0.1,
             "#c51b7d"
            ],
            [
             0.2,
             "#de77ae"
            ],
            [
             0.3,
             "#f1b6da"
            ],
            [
             0.4,
             "#fde0ef"
            ],
            [
             0.5,
             "#f7f7f7"
            ],
            [
             0.6,
             "#e6f5d0"
            ],
            [
             0.7,
             "#b8e186"
            ],
            [
             0.8,
             "#7fbc41"
            ],
            [
             0.9,
             "#4d9221"
            ],
            [
             1,
             "#276419"
            ]
           ],
           "sequential": [
            [
             0,
             "#0d0887"
            ],
            [
             0.1111111111111111,
             "#46039f"
            ],
            [
             0.2222222222222222,
             "#7201a8"
            ],
            [
             0.3333333333333333,
             "#9c179e"
            ],
            [
             0.4444444444444444,
             "#bd3786"
            ],
            [
             0.5555555555555556,
             "#d8576b"
            ],
            [
             0.6666666666666666,
             "#ed7953"
            ],
            [
             0.7777777777777778,
             "#fb9f3a"
            ],
            [
             0.8888888888888888,
             "#fdca26"
            ],
            [
             1,
             "#f0f921"
            ]
           ],
           "sequentialminus": [
            [
             0,
             "#0d0887"
            ],
            [
             0.1111111111111111,
             "#46039f"
            ],
            [
             0.2222222222222222,
             "#7201a8"
            ],
            [
             0.3333333333333333,
             "#9c179e"
            ],
            [
             0.4444444444444444,
             "#bd3786"
            ],
            [
             0.5555555555555556,
             "#d8576b"
            ],
            [
             0.6666666666666666,
             "#ed7953"
            ],
            [
             0.7777777777777778,
             "#fb9f3a"
            ],
            [
             0.8888888888888888,
             "#fdca26"
            ],
            [
             1,
             "#f0f921"
            ]
           ]
          },
          "colorway": [
           "#636efa",
           "#EF553B",
           "#00cc96",
           "#ab63fa",
           "#FFA15A",
           "#19d3f3",
           "#FF6692",
           "#B6E880",
           "#FF97FF",
           "#FECB52"
          ],
          "font": {
           "color": "#2a3f5f"
          },
          "geo": {
           "bgcolor": "white",
           "lakecolor": "white",
           "landcolor": "#E5ECF6",
           "showlakes": true,
           "showland": true,
           "subunitcolor": "white"
          },
          "hoverlabel": {
           "align": "left"
          },
          "hovermode": "closest",
          "mapbox": {
           "style": "light"
          },
          "paper_bgcolor": "white",
          "plot_bgcolor": "#E5ECF6",
          "polar": {
           "angularaxis": {
            "gridcolor": "white",
            "linecolor": "white",
            "ticks": ""
           },
           "bgcolor": "#E5ECF6",
           "radialaxis": {
            "gridcolor": "white",
            "linecolor": "white",
            "ticks": ""
           }
          },
          "scene": {
           "xaxis": {
            "backgroundcolor": "#E5ECF6",
            "gridcolor": "white",
            "gridwidth": 2,
            "linecolor": "white",
            "showbackground": true,
            "ticks": "",
            "zerolinecolor": "white"
           },
           "yaxis": {
            "backgroundcolor": "#E5ECF6",
            "gridcolor": "white",
            "gridwidth": 2,
            "linecolor": "white",
            "showbackground": true,
            "ticks": "",
            "zerolinecolor": "white"
           },
           "zaxis": {
            "backgroundcolor": "#E5ECF6",
            "gridcolor": "white",
            "gridwidth": 2,
            "linecolor": "white",
            "showbackground": true,
            "ticks": "",
            "zerolinecolor": "white"
           }
          },
          "shapedefaults": {
           "line": {
            "color": "#2a3f5f"
           }
          },
          "ternary": {
           "aaxis": {
            "gridcolor": "white",
            "linecolor": "white",
            "ticks": ""
           },
           "baxis": {
            "gridcolor": "white",
            "linecolor": "white",
            "ticks": ""
           },
           "bgcolor": "#E5ECF6",
           "caxis": {
            "gridcolor": "white",
            "linecolor": "white",
            "ticks": ""
           }
          },
          "title": {
           "x": 0.05
          },
          "xaxis": {
           "automargin": true,
           "gridcolor": "white",
           "linecolor": "white",
           "ticks": "",
           "title": {
            "standoff": 15
           },
           "zerolinecolor": "white",
           "zerolinewidth": 2
          },
          "yaxis": {
           "automargin": true,
           "gridcolor": "white",
           "linecolor": "white",
           "ticks": "",
           "title": {
            "standoff": 15
           },
           "zerolinecolor": "white",
           "zerolinewidth": 2
          }
         }
        },
        "xaxis": {
         "anchor": "y",
         "domain": [
          0,
          1
         ],
         "title": {
          "text": "x1"
         }
        },
        "yaxis": {
         "anchor": "x",
         "domain": [
          0,
          1
         ],
         "title": {
          "text": "x2"
         }
        }
       }
      }
     },
     "metadata": {},
     "output_type": "display_data"
    }
   ],
   "source": [
    "px.scatter(x=x1, y=x2, labels={'x':'x1', 'y':'x2'})"
   ]
  },
  {
   "attachments": {},
   "cell_type": "markdown",
   "metadata": {},
   "source": [
    "c)"
   ]
  },
  {
   "cell_type": "code",
   "execution_count": 14,
   "metadata": {},
   "outputs": [
    {
     "name": "stdout",
     "output_type": "stream",
     "text": [
      "                            OLS Regression Results                            \n",
      "==============================================================================\n",
      "Dep. Variable:                      y   R-squared:                       0.261\n",
      "Model:                            OLS   Adj. R-squared:                  0.245\n",
      "Method:                 Least Squares   F-statistic:                     17.09\n",
      "Date:                Fri, 05 May 2023   Prob (F-statistic):           4.40e-07\n",
      "Time:                        15:47:45   Log-Likelihood:                -142.34\n",
      "No. Observations:                 100   AIC:                             290.7\n",
      "Df Residuals:                      97   BIC:                             298.5\n",
      "Df Model:                           2                                         \n",
      "Covariance Type:            nonrobust                                         \n",
      "==============================================================================\n",
      "                 coef    std err          t      P>|t|      [0.025      0.975]\n",
      "------------------------------------------------------------------------------\n",
      "Intercept      2.1893      0.199     11.021      0.000       1.795       2.584\n",
      "x1             0.7046      0.637      1.107      0.271      -0.559       1.968\n",
      "x2             2.5024      1.140      2.194      0.031       0.239       4.766\n",
      "==============================================================================\n",
      "Omnibus:                        0.607   Durbin-Watson:                   2.111\n",
      "Prob(Omnibus):                  0.738   Jarque-Bera (JB):                0.577\n",
      "Skew:                          -0.179   Prob(JB):                        0.749\n",
      "Kurtosis:                       2.900   Cond. No.                         14.3\n",
      "==============================================================================\n",
      "\n",
      "Notes:\n",
      "[1] Standard Errors assume that the covariance matrix of the errors is correctly specified.\n"
     ]
    }
   ],
   "source": [
    "results = smf.ols(\"y ~ x1 + x2\", data=data).fit()\n",
    "print(results.summary())"
   ]
  },
  {
   "attachments": {},
   "cell_type": "markdown",
   "metadata": {},
   "source": [
    "$$\n",
    "    \\hat{\\beta_0} = 2.19; \\hat{\\beta_1} = 0.70; \\hat{\\beta_2} = 2.50\n",
    "$$"
   ]
  },
  {
   "attachments": {},
   "cell_type": "markdown",
   "metadata": {},
   "source": [
    "- The standard error increases from from x1 to x2, it is also high for all predictors\n",
    "- The coefficients of the predictors are very different from the regression ones\n",
    "- The p-value for $\\hat{\\beta_1}$ is bigger than 0.05 so the null hypothesis could not be rejected\n",
    "- The p-value for $\\hat{\\beta_2}$ is smaller than 0.05 so the null hypothesis can be rejected"
   ]
  },
  {
   "attachments": {},
   "cell_type": "markdown",
   "metadata": {},
   "source": [
    "d)"
   ]
  },
  {
   "cell_type": "code",
   "execution_count": 10,
   "metadata": {},
   "outputs": [
    {
     "name": "stdout",
     "output_type": "stream",
     "text": [
      "                            OLS Regression Results                            \n",
      "==============================================================================\n",
      "Dep. Variable:                      y   R-squared:                       0.224\n",
      "Model:                            OLS   Adj. R-squared:                  0.216\n",
      "Method:                 Least Squares   F-statistic:                     28.26\n",
      "Date:                Fri, 05 May 2023   Prob (F-statistic):           6.68e-07\n",
      "Time:                        15:36:31   Log-Likelihood:                -144.76\n",
      "No. Observations:                 100   AIC:                             293.5\n",
      "Df Residuals:                      98   BIC:                             298.7\n",
      "Df Model:                           1                                         \n",
      "Covariance Type:            nonrobust                                         \n",
      "==============================================================================\n",
      "                 coef    std err          t      P>|t|      [0.025      0.975]\n",
      "------------------------------------------------------------------------------\n",
      "Intercept      2.2486      0.201     11.209      0.000       1.850       2.647\n",
      "x1             1.8770      0.353      5.316      0.000       1.176       2.578\n",
      "==============================================================================\n",
      "Omnibus:                        0.292   Durbin-Watson:                   2.123\n",
      "Prob(Omnibus):                  0.864   Jarque-Bera (JB):                0.468\n",
      "Skew:                          -0.003   Prob(JB):                        0.791\n",
      "Kurtosis:                       2.665   Cond. No.                         4.26\n",
      "==============================================================================\n",
      "\n",
      "Notes:\n",
      "[1] Standard Errors assume that the covariance matrix of the errors is correctly specified.\n"
     ]
    }
   ],
   "source": [
    "results_only_x1 = smf.ols(\"y ~ x1\", data=data).fit()\n",
    "print(results_only_x1.summary())"
   ]
  },
  {
   "attachments": {},
   "cell_type": "markdown",
   "metadata": {},
   "source": [
    "With only x1 in the fit, the null hypothesis can be rejected"
   ]
  },
  {
   "attachments": {},
   "cell_type": "markdown",
   "metadata": {},
   "source": [
    "e)"
   ]
  },
  {
   "cell_type": "code",
   "execution_count": 11,
   "metadata": {},
   "outputs": [
    {
     "name": "stdout",
     "output_type": "stream",
     "text": [
      "                            OLS Regression Results                            \n",
      "==============================================================================\n",
      "Dep. Variable:                      y   R-squared:                       0.251\n",
      "Model:                            OLS   Adj. R-squared:                  0.244\n",
      "Method:                 Least Squares   F-statistic:                     32.87\n",
      "Date:                Fri, 05 May 2023   Prob (F-statistic):           1.09e-07\n",
      "Time:                        15:37:43   Log-Likelihood:                -142.97\n",
      "No. Observations:                 100   AIC:                             289.9\n",
      "Df Residuals:                      98   BIC:                             295.1\n",
      "Df Model:                           1                                         \n",
      "Covariance Type:            nonrobust                                         \n",
      "==============================================================================\n",
      "                 coef    std err          t      P>|t|      [0.025      0.975]\n",
      "------------------------------------------------------------------------------\n",
      "Intercept      2.2655      0.187     12.145      0.000       1.895       2.636\n",
      "x2             3.5613      0.621      5.733      0.000       2.329       4.794\n",
      "==============================================================================\n",
      "Omnibus:                        0.857   Durbin-Watson:                   2.117\n",
      "Prob(Omnibus):                  0.651   Jarque-Bera (JB):                0.746\n",
      "Skew:                          -0.210   Prob(JB):                        0.689\n",
      "Kurtosis:                       2.946   Cond. No.                         6.48\n",
      "==============================================================================\n",
      "\n",
      "Notes:\n",
      "[1] Standard Errors assume that the covariance matrix of the errors is correctly specified.\n"
     ]
    }
   ],
   "source": [
    "results_only_x2 = smf.ols(\"y ~ x2\", data=data).fit()\n",
    "print(results_only_x2.summary())"
   ]
  },
  {
   "attachments": {},
   "cell_type": "markdown",
   "metadata": {},
   "source": [
    "With only x2 in the fit, the null hypothesis can be rejected"
   ]
  },
  {
   "attachments": {},
   "cell_type": "markdown",
   "metadata": {},
   "source": [
    "f)"
   ]
  },
  {
   "attachments": {},
   "cell_type": "markdown",
   "metadata": {},
   "source": [
    "In item **c)** there is a problem with collinearity, because of that the responses of items **c)**, **d)** and **e)** are not contradictory."
   ]
  },
  {
   "cell_type": "markdown",
   "metadata": {},
   "source": [
    "g)"
   ]
  },
  {
   "cell_type": "code",
   "execution_count": 18,
   "metadata": {},
   "outputs": [
    {
     "data": {
      "application/vnd.plotly.v1+json": {
       "config": {
        "plotlyServerURL": "https://plot.ly"
       },
       "data": [
        {
         "hovertemplate": "x1=%{x}<br>x2=%{y}<extra></extra>",
         "legendgroup": "",
         "marker": {
          "color": "#636efa",
          "symbol": "circle"
         },
         "mode": "markers",
         "name": "",
         "orientation": "v",
         "showlegend": false,
         "type": "scatter",
         "x": [
          0.417022004702574,
          0.7203244934421581,
          0.00011437481734488664,
          0.30233257263183977,
          0.14675589081711304,
          0.0923385947687978,
          0.1862602113776709,
          0.34556072704304774,
          0.39676747423066994,
          0.538816734003357,
          0.4191945144032948,
          0.6852195003967595,
          0.20445224973151743,
          0.8781174363909454,
          0.027387593197926163,
          0.6704675101784022,
          0.41730480236712697,
          0.5586898284457517,
          0.14038693859523377,
          0.1981014890848788,
          0.8007445686755367,
          0.9682615757193975,
          0.31342417815924284,
          0.6923226156693141,
          0.8763891522960383,
          0.8946066635038473,
          0.08504421136977791,
          0.03905478323288236,
          0.1698304195645689,
          0.8781425034294131,
          0.0983468338330501,
          0.42110762500505217,
          0.9578895301505019,
          0.5331652849730171,
          0.6918771139504734,
          0.31551563100606295,
          0.6865009276815837,
          0.8346256718973729,
          0.018288277344191806,
          0.7501443149449675,
          0.9888610889064947,
          0.7481656543798394,
          0.2804439920644052,
          0.7892793284514885,
          0.10322600657764203,
          0.44789352617590517,
          0.9085955030930956,
          0.2936141483736795,
          0.28777533858634874,
          0.13002857211827767,
          0.019366957870297075,
          0.678835532939891,
          0.21162811600005904,
          0.2655466593722262,
          0.4915731592803383,
          0.053362545117080384,
          0.5741176054920131,
          0.14672857490581015,
          0.5893055369032842,
          0.6997583600209312,
          0.10233442882782584,
          0.4140559878195683,
          0.6944001577277451,
          0.41417926952690265,
          0.04995345894608716,
          0.5358964059155116,
          0.6637946452197888,
          0.5148891120583086,
          0.9445947559908133,
          0.5865550405019929,
          0.9034019152878835,
          0.13747470414623753,
          0.13927634725075855,
          0.8073912887095238,
          0.3976768369855336,
          0.16535419711693278,
          0.9275085803960339,
          0.34776585974550656,
          0.7508121031361555,
          0.7259979853504515,
          0.8833060912058098,
          0.6236722070556089,
          0.7509424340273372,
          0.34889834197784253,
          0.2699278917650261,
          0.8958862181960668,
          0.4280911898712949,
          0.9648400471483856,
          0.6634414978184481,
          0.6216957202091218,
          0.11474597295337519,
          0.9494892587070712,
          0.4499121334799405,
          0.5783896143871318,
          0.40813680276128117,
          0.2370269802430277,
          0.9033795205622538,
          0.5736794866722859,
          0.00287032703115897,
          0.6171449136207239,
          0.1
         ],
         "xaxis": "x",
         "y": [
          0.24007449707544753,
          0.15794212513867875,
          -0.030563213854164738,
          0.2339637505766445,
          0.09638741894499486,
          0.12237041541560137,
          0.07089729142779952,
          0.1527045566285241,
          0.2170398762141634,
          0.3104135317225041,
          0.22942722921432437,
          0.35451061477912565,
          0.035159896236855656,
          0.4768150968275646,
          0.025875923698106776,
          0.44818214588039307,
          0.3285441891737142,
          0.2978605559712702,
          0.032664974288605465,
          0.03517770379701715,
          0.4427217197441796,
          0.4918647946945547,
          0.12232672152251386,
          0.35052099351808175,
          0.37619449175320624,
          0.5171065351591455,
          -0.002190750793710866,
          0.14197816209699107,
          0.12526437396136444,
          0.4984291040384133,
          -0.06031776765757914,
          0.22749205580839288,
          0.5530004101848784,
          0.17121258230571507,
          0.31931670637487447,
          0.16101927017236733,
          0.20593873181611627,
          0.44882877515291564,
          0.09376020343059924,
          0.2891205633892851,
          0.529485142319658,
          0.24285448606617652,
          0.13635244510559746,
          0.23306242875541477,
          0.16375477411238742,
          0.26483681688163535,
          0.4518360559589699,
          0.06929091226992379,
          0.27126326230905207,
          0.26172446098461233,
          -0.17611470750952668,
          0.4630341695152275,
          0.26857913331492017,
          0.16657449934356067,
          0.12585977640665053,
          0.11301580431294235,
          0.2689667725381915,
          0.01297222467357935,
          0.17164695488494594,
          0.40493292960808713,
          0.1304479010058477,
          0.144674920941805,
          0.3992577125712096,
          0.09265549580113705,
          0.10516283266017805,
          0.27260493280017034,
          0.3132403454191595,
          0.24726996877623975,
          0.5591859936959934,
          0.36831868423749725,
          0.5046474900792126,
          0.08250747307285737,
          0.07742028641664986,
          0.46553367055461436,
          0.22208787441064057,
          0.1509322392449149,
          0.43274261284621096,
          -0.06960084653796061,
          0.4792885117540192,
          0.5816969573726515,
          0.4857894899597631,
          0.30182058019945446,
          0.3618267426240653,
          0.16254375221144027,
          0.1367048867125135,
          0.3357412362233446,
          0.16233614914362465,
          0.3827173408091665,
          0.3566006650480011,
          0.2811837448674746,
          0.10689411887448363,
          0.45727431337928554,
          0.3235895855220945,
          0.3105481973271101,
          0.4231383742776139,
          -0.07112260216759539,
          0.38699809145563613,
          0.376988432501014,
          0.2542677341962193,
          0.2837089790388159,
          0.8
         ],
         "yaxis": "y"
        }
       ],
       "layout": {
        "legend": {
         "tracegroupgap": 0
        },
        "margin": {
         "t": 60
        },
        "template": {
         "data": {
          "bar": [
           {
            "error_x": {
             "color": "#2a3f5f"
            },
            "error_y": {
             "color": "#2a3f5f"
            },
            "marker": {
             "line": {
              "color": "#E5ECF6",
              "width": 0.5
             },
             "pattern": {
              "fillmode": "overlay",
              "size": 10,
              "solidity": 0.2
             }
            },
            "type": "bar"
           }
          ],
          "barpolar": [
           {
            "marker": {
             "line": {
              "color": "#E5ECF6",
              "width": 0.5
             },
             "pattern": {
              "fillmode": "overlay",
              "size": 10,
              "solidity": 0.2
             }
            },
            "type": "barpolar"
           }
          ],
          "carpet": [
           {
            "aaxis": {
             "endlinecolor": "#2a3f5f",
             "gridcolor": "white",
             "linecolor": "white",
             "minorgridcolor": "white",
             "startlinecolor": "#2a3f5f"
            },
            "baxis": {
             "endlinecolor": "#2a3f5f",
             "gridcolor": "white",
             "linecolor": "white",
             "minorgridcolor": "white",
             "startlinecolor": "#2a3f5f"
            },
            "type": "carpet"
           }
          ],
          "choropleth": [
           {
            "colorbar": {
             "outlinewidth": 0,
             "ticks": ""
            },
            "type": "choropleth"
           }
          ],
          "contour": [
           {
            "colorbar": {
             "outlinewidth": 0,
             "ticks": ""
            },
            "colorscale": [
             [
              0,
              "#0d0887"
             ],
             [
              0.1111111111111111,
              "#46039f"
             ],
             [
              0.2222222222222222,
              "#7201a8"
             ],
             [
              0.3333333333333333,
              "#9c179e"
             ],
             [
              0.4444444444444444,
              "#bd3786"
             ],
             [
              0.5555555555555556,
              "#d8576b"
             ],
             [
              0.6666666666666666,
              "#ed7953"
             ],
             [
              0.7777777777777778,
              "#fb9f3a"
             ],
             [
              0.8888888888888888,
              "#fdca26"
             ],
             [
              1,
              "#f0f921"
             ]
            ],
            "type": "contour"
           }
          ],
          "contourcarpet": [
           {
            "colorbar": {
             "outlinewidth": 0,
             "ticks": ""
            },
            "type": "contourcarpet"
           }
          ],
          "heatmap": [
           {
            "colorbar": {
             "outlinewidth": 0,
             "ticks": ""
            },
            "colorscale": [
             [
              0,
              "#0d0887"
             ],
             [
              0.1111111111111111,
              "#46039f"
             ],
             [
              0.2222222222222222,
              "#7201a8"
             ],
             [
              0.3333333333333333,
              "#9c179e"
             ],
             [
              0.4444444444444444,
              "#bd3786"
             ],
             [
              0.5555555555555556,
              "#d8576b"
             ],
             [
              0.6666666666666666,
              "#ed7953"
             ],
             [
              0.7777777777777778,
              "#fb9f3a"
             ],
             [
              0.8888888888888888,
              "#fdca26"
             ],
             [
              1,
              "#f0f921"
             ]
            ],
            "type": "heatmap"
           }
          ],
          "heatmapgl": [
           {
            "colorbar": {
             "outlinewidth": 0,
             "ticks": ""
            },
            "colorscale": [
             [
              0,
              "#0d0887"
             ],
             [
              0.1111111111111111,
              "#46039f"
             ],
             [
              0.2222222222222222,
              "#7201a8"
             ],
             [
              0.3333333333333333,
              "#9c179e"
             ],
             [
              0.4444444444444444,
              "#bd3786"
             ],
             [
              0.5555555555555556,
              "#d8576b"
             ],
             [
              0.6666666666666666,
              "#ed7953"
             ],
             [
              0.7777777777777778,
              "#fb9f3a"
             ],
             [
              0.8888888888888888,
              "#fdca26"
             ],
             [
              1,
              "#f0f921"
             ]
            ],
            "type": "heatmapgl"
           }
          ],
          "histogram": [
           {
            "marker": {
             "pattern": {
              "fillmode": "overlay",
              "size": 10,
              "solidity": 0.2
             }
            },
            "type": "histogram"
           }
          ],
          "histogram2d": [
           {
            "colorbar": {
             "outlinewidth": 0,
             "ticks": ""
            },
            "colorscale": [
             [
              0,
              "#0d0887"
             ],
             [
              0.1111111111111111,
              "#46039f"
             ],
             [
              0.2222222222222222,
              "#7201a8"
             ],
             [
              0.3333333333333333,
              "#9c179e"
             ],
             [
              0.4444444444444444,
              "#bd3786"
             ],
             [
              0.5555555555555556,
              "#d8576b"
             ],
             [
              0.6666666666666666,
              "#ed7953"
             ],
             [
              0.7777777777777778,
              "#fb9f3a"
             ],
             [
              0.8888888888888888,
              "#fdca26"
             ],
             [
              1,
              "#f0f921"
             ]
            ],
            "type": "histogram2d"
           }
          ],
          "histogram2dcontour": [
           {
            "colorbar": {
             "outlinewidth": 0,
             "ticks": ""
            },
            "colorscale": [
             [
              0,
              "#0d0887"
             ],
             [
              0.1111111111111111,
              "#46039f"
             ],
             [
              0.2222222222222222,
              "#7201a8"
             ],
             [
              0.3333333333333333,
              "#9c179e"
             ],
             [
              0.4444444444444444,
              "#bd3786"
             ],
             [
              0.5555555555555556,
              "#d8576b"
             ],
             [
              0.6666666666666666,
              "#ed7953"
             ],
             [
              0.7777777777777778,
              "#fb9f3a"
             ],
             [
              0.8888888888888888,
              "#fdca26"
             ],
             [
              1,
              "#f0f921"
             ]
            ],
            "type": "histogram2dcontour"
           }
          ],
          "mesh3d": [
           {
            "colorbar": {
             "outlinewidth": 0,
             "ticks": ""
            },
            "type": "mesh3d"
           }
          ],
          "parcoords": [
           {
            "line": {
             "colorbar": {
              "outlinewidth": 0,
              "ticks": ""
             }
            },
            "type": "parcoords"
           }
          ],
          "pie": [
           {
            "automargin": true,
            "type": "pie"
           }
          ],
          "scatter": [
           {
            "fillpattern": {
             "fillmode": "overlay",
             "size": 10,
             "solidity": 0.2
            },
            "type": "scatter"
           }
          ],
          "scatter3d": [
           {
            "line": {
             "colorbar": {
              "outlinewidth": 0,
              "ticks": ""
             }
            },
            "marker": {
             "colorbar": {
              "outlinewidth": 0,
              "ticks": ""
             }
            },
            "type": "scatter3d"
           }
          ],
          "scattercarpet": [
           {
            "marker": {
             "colorbar": {
              "outlinewidth": 0,
              "ticks": ""
             }
            },
            "type": "scattercarpet"
           }
          ],
          "scattergeo": [
           {
            "marker": {
             "colorbar": {
              "outlinewidth": 0,
              "ticks": ""
             }
            },
            "type": "scattergeo"
           }
          ],
          "scattergl": [
           {
            "marker": {
             "colorbar": {
              "outlinewidth": 0,
              "ticks": ""
             }
            },
            "type": "scattergl"
           }
          ],
          "scattermapbox": [
           {
            "marker": {
             "colorbar": {
              "outlinewidth": 0,
              "ticks": ""
             }
            },
            "type": "scattermapbox"
           }
          ],
          "scatterpolar": [
           {
            "marker": {
             "colorbar": {
              "outlinewidth": 0,
              "ticks": ""
             }
            },
            "type": "scatterpolar"
           }
          ],
          "scatterpolargl": [
           {
            "marker": {
             "colorbar": {
              "outlinewidth": 0,
              "ticks": ""
             }
            },
            "type": "scatterpolargl"
           }
          ],
          "scatterternary": [
           {
            "marker": {
             "colorbar": {
              "outlinewidth": 0,
              "ticks": ""
             }
            },
            "type": "scatterternary"
           }
          ],
          "surface": [
           {
            "colorbar": {
             "outlinewidth": 0,
             "ticks": ""
            },
            "colorscale": [
             [
              0,
              "#0d0887"
             ],
             [
              0.1111111111111111,
              "#46039f"
             ],
             [
              0.2222222222222222,
              "#7201a8"
             ],
             [
              0.3333333333333333,
              "#9c179e"
             ],
             [
              0.4444444444444444,
              "#bd3786"
             ],
             [
              0.5555555555555556,
              "#d8576b"
             ],
             [
              0.6666666666666666,
              "#ed7953"
             ],
             [
              0.7777777777777778,
              "#fb9f3a"
             ],
             [
              0.8888888888888888,
              "#fdca26"
             ],
             [
              1,
              "#f0f921"
             ]
            ],
            "type": "surface"
           }
          ],
          "table": [
           {
            "cells": {
             "fill": {
              "color": "#EBF0F8"
             },
             "line": {
              "color": "white"
             }
            },
            "header": {
             "fill": {
              "color": "#C8D4E3"
             },
             "line": {
              "color": "white"
             }
            },
            "type": "table"
           }
          ]
         },
         "layout": {
          "annotationdefaults": {
           "arrowcolor": "#2a3f5f",
           "arrowhead": 0,
           "arrowwidth": 1
          },
          "autotypenumbers": "strict",
          "coloraxis": {
           "colorbar": {
            "outlinewidth": 0,
            "ticks": ""
           }
          },
          "colorscale": {
           "diverging": [
            [
             0,
             "#8e0152"
            ],
            [
             0.1,
             "#c51b7d"
            ],
            [
             0.2,
             "#de77ae"
            ],
            [
             0.3,
             "#f1b6da"
            ],
            [
             0.4,
             "#fde0ef"
            ],
            [
             0.5,
             "#f7f7f7"
            ],
            [
             0.6,
             "#e6f5d0"
            ],
            [
             0.7,
             "#b8e186"
            ],
            [
             0.8,
             "#7fbc41"
            ],
            [
             0.9,
             "#4d9221"
            ],
            [
             1,
             "#276419"
            ]
           ],
           "sequential": [
            [
             0,
             "#0d0887"
            ],
            [
             0.1111111111111111,
             "#46039f"
            ],
            [
             0.2222222222222222,
             "#7201a8"
            ],
            [
             0.3333333333333333,
             "#9c179e"
            ],
            [
             0.4444444444444444,
             "#bd3786"
            ],
            [
             0.5555555555555556,
             "#d8576b"
            ],
            [
             0.6666666666666666,
             "#ed7953"
            ],
            [
             0.7777777777777778,
             "#fb9f3a"
            ],
            [
             0.8888888888888888,
             "#fdca26"
            ],
            [
             1,
             "#f0f921"
            ]
           ],
           "sequentialminus": [
            [
             0,
             "#0d0887"
            ],
            [
             0.1111111111111111,
             "#46039f"
            ],
            [
             0.2222222222222222,
             "#7201a8"
            ],
            [
             0.3333333333333333,
             "#9c179e"
            ],
            [
             0.4444444444444444,
             "#bd3786"
            ],
            [
             0.5555555555555556,
             "#d8576b"
            ],
            [
             0.6666666666666666,
             "#ed7953"
            ],
            [
             0.7777777777777778,
             "#fb9f3a"
            ],
            [
             0.8888888888888888,
             "#fdca26"
            ],
            [
             1,
             "#f0f921"
            ]
           ]
          },
          "colorway": [
           "#636efa",
           "#EF553B",
           "#00cc96",
           "#ab63fa",
           "#FFA15A",
           "#19d3f3",
           "#FF6692",
           "#B6E880",
           "#FF97FF",
           "#FECB52"
          ],
          "font": {
           "color": "#2a3f5f"
          },
          "geo": {
           "bgcolor": "white",
           "lakecolor": "white",
           "landcolor": "#E5ECF6",
           "showlakes": true,
           "showland": true,
           "subunitcolor": "white"
          },
          "hoverlabel": {
           "align": "left"
          },
          "hovermode": "closest",
          "mapbox": {
           "style": "light"
          },
          "paper_bgcolor": "white",
          "plot_bgcolor": "#E5ECF6",
          "polar": {
           "angularaxis": {
            "gridcolor": "white",
            "linecolor": "white",
            "ticks": ""
           },
           "bgcolor": "#E5ECF6",
           "radialaxis": {
            "gridcolor": "white",
            "linecolor": "white",
            "ticks": ""
           }
          },
          "scene": {
           "xaxis": {
            "backgroundcolor": "#E5ECF6",
            "gridcolor": "white",
            "gridwidth": 2,
            "linecolor": "white",
            "showbackground": true,
            "ticks": "",
            "zerolinecolor": "white"
           },
           "yaxis": {
            "backgroundcolor": "#E5ECF6",
            "gridcolor": "white",
            "gridwidth": 2,
            "linecolor": "white",
            "showbackground": true,
            "ticks": "",
            "zerolinecolor": "white"
           },
           "zaxis": {
            "backgroundcolor": "#E5ECF6",
            "gridcolor": "white",
            "gridwidth": 2,
            "linecolor": "white",
            "showbackground": true,
            "ticks": "",
            "zerolinecolor": "white"
           }
          },
          "shapedefaults": {
           "line": {
            "color": "#2a3f5f"
           }
          },
          "ternary": {
           "aaxis": {
            "gridcolor": "white",
            "linecolor": "white",
            "ticks": ""
           },
           "baxis": {
            "gridcolor": "white",
            "linecolor": "white",
            "ticks": ""
           },
           "bgcolor": "#E5ECF6",
           "caxis": {
            "gridcolor": "white",
            "linecolor": "white",
            "ticks": ""
           }
          },
          "title": {
           "x": 0.05
          },
          "xaxis": {
           "automargin": true,
           "gridcolor": "white",
           "linecolor": "white",
           "ticks": "",
           "title": {
            "standoff": 15
           },
           "zerolinecolor": "white",
           "zerolinewidth": 2
          },
          "yaxis": {
           "automargin": true,
           "gridcolor": "white",
           "linecolor": "white",
           "ticks": "",
           "title": {
            "standoff": 15
           },
           "zerolinecolor": "white",
           "zerolinewidth": 2
          }
         }
        },
        "xaxis": {
         "anchor": "y",
         "domain": [
          0,
          1
         ],
         "title": {
          "text": "x1"
         }
        },
        "yaxis": {
         "anchor": "x",
         "domain": [
          0,
          1
         ],
         "title": {
          "text": "x2"
         }
        }
       }
      }
     },
     "metadata": {},
     "output_type": "display_data"
    }
   ],
   "source": [
    "x1 = np.concatenate((x1, [0.1]))\n",
    "x2 = np.concatenate((x2, [0.8]))\n",
    "y = np.concatenate((y, [6]))\n",
    "data = pd.DataFrame(data={\"x1\": x1, \"x2\": x2, \"y\": y})\n",
    "\n",
    "results = smf.ols(\"y ~ x1 + x2\", data=data).fit()\n",
    "results_only_x1 = smf.ols(\"y ~ x1\", data=data).fit()\n",
    "results_only_x2 = smf.ols(\"y ~ x2\", data=data).fit()\n",
    "\n",
    "px.scatter(x=x1, y=x2, labels={'x':'x1', 'y':'x2'})"
   ]
  },
  {
   "cell_type": "code",
   "execution_count": 22,
   "metadata": {},
   "outputs": [
    {
     "data": {
      "image/png": "[encoded data removed]",
      "text/plain": [
       "<Figure size 1000x1000 with 4 Axes>"
      ]
     },
     "metadata": {},
     "output_type": "display_data"
    },
    {
     "name": "stdout",
     "output_type": "stream",
     "text": [
      "    Features  VIF Factor\n",
      "1         x1        2.28\n",
      "2         x2        2.28\n",
      "0  Intercept        3.83\n"
     ]
    }
   ],
   "source": [
    "cls = LinearRegDiagnostic(results)\n",
    "vif, fig, ax = cls()\n",
    "print(vif)"
   ]
  },
  {
   "attachments": {},
   "cell_type": "markdown",
   "metadata": {},
   "source": [
    "- Point 101 is high leverage but not an outlier"
   ]
  },
  {
   "cell_type": "code",
   "execution_count": 23,
   "metadata": {},
   "outputs": [
    {
     "data": {
      "image/png": "[encoded data removed]",
      "text/plain": [
       "<Figure size 1000x1000 with 4 Axes>"
      ]
     },
     "metadata": {},
     "output_type": "display_data"
    },
    {
     "name": "stdout",
     "output_type": "stream",
     "text": [
      "    Features  VIF Factor\n",
      "1         x1        1.00\n",
      "0  Intercept        3.66\n"
     ]
    }
   ],
   "source": [
    "cls = LinearRegDiagnostic(results_only_x1)\n",
    "vif, fig, ax = cls()\n",
    "print(vif)"
   ]
  },
  {
   "attachments": {},
   "cell_type": "markdown",
   "metadata": {},
   "source": [
    "- Point 101 is an outlier and is high leverage"
   ]
  },
  {
   "cell_type": "code",
   "execution_count": 24,
   "metadata": {},
   "outputs": [
    {
     "data": {
      "image/png": "[encoded data removed]",
      "text/plain": [
       "<Figure size 1000x1000 with 4 Axes>"
      ]
     },
     "metadata": {},
     "output_type": "display_data"
    },
    {
     "name": "stdout",
     "output_type": "stream",
     "text": [
      "    Features  VIF Factor\n",
      "1         x2        1.00\n",
      "0  Intercept        3.22\n"
     ]
    }
   ],
   "source": [
    "cls = LinearRegDiagnostic(results_only_x2)\n",
    "vif, fig, ax = cls()\n",
    "print(vif)"
   ]
  },
  {
   "attachments": {},
   "cell_type": "markdown",
   "metadata": {},
   "source": [
    "- Point 101 is neither an outlier or is high leverage"
   ]
  }
 ],
 "metadata": {
  "kernelspec": {
   "display_name": ".venv",
   "language": "python",
   "name": "python3"
  },
  "language_info": {
   "codemirror_mode": {
    "name": "ipython",
    "version": 3
   },
   "file_extension": ".py",
   "mimetype": "text/x-python",
   "name": "python",
   "nbconvert_exporter": "python",
   "pygments_lexer": "ipython3",
   "version": "3.10.6"
  },
  "orig_nbformat": 4
 },
 "nbformat": 4,
 "nbformat_minor": 2
}
